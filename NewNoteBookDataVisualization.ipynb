{
 "cells": [
  {
   "cell_type": "markdown",
   "id": "04fa0981",
   "metadata": {},
   "source": [
    "# Data Visualization Project \n",
    "\n",
    "## Jeremia Neuhaus, Dominic von Olnhausen, Niklas Bräuninger, Janis Hahn\n",
    "\n",
    "### Einleitung\n",
    "\n",
    "Auf den folgenden Seiten werden wir die Daten des Datensatzes [Aktuell_Deutschland_SarsCov2_Infektionen.csv](https://github.com/robert-koch-institut/SARS-CoV-2-Infektionen_in_Deutschland), publiziert vom Robert Koch Institut, auswerten. Der Datensatz wird jeden Tag um die neusten Fälle erweitert und zählt stand heute (07.05.2023) 7160131 Zeilen und 12 Spalten. Folgende Spalten sind im Datensatz enthalten: \n",
    "- IdLandkreis: Einzige Geoinformation um Fälle dem Landkreis zuzuordnen\n",
    "- Altersgruppe: Unterteilt die Fälle in Altersgruppen: A00-A04, A05-A14, A15-A34, A35-A59, A60-A79, A80+, unbekannt\n",
    "- Geschlecht: Männlich und weiblich\n",
    "- Meldedatum: Datum, an dem der Coronafall gemeldet wurde\n",
    "- Refdatum: Datum, des Erkrankungsbeginns. Wenn nicht bekannt -> Meldedatum\n",
    "- IstErkrankungsbeginn: 1: Refatum = Erkrankungsbeginn, 0: Refdatum = Meldedatum  \n",
    "- NeuerFall\n",
    "- NeuerTodesfall: -9: Keine Informationen über Krankheitsverlauf vorhanden\n",
    "- NeuGenesen: -9: Keine Informationen über Krankheitsverlauf vorhanden\n",
    "- AnzahlFall: Anzahl der gemeldeten Neuinfektionen\n",
    "- AnzahlTodesfall: Anzahl der gemeldeten Todesfälle \n",
    "- AnzahlGenesen: Anzahl der gemeldeten Genesungsfälle\n",
    "\n",
    "Für unsere Datenvisualisierung verwenden wir aus diesem Datensatz die Spalten: IdLandkreis, Altersgruppe, Meldedatum, Refdatum, AnzahlFall, AnzahlTodesfall und AnzahlGenesen.\n",
    "\n",
    "Verwendete Files:\n",
    "- [Aktuell_Deutschland_SarsCov2_Infektionen](https://github.com/robert-koch-institut/SARS-CoV-2-Infektionen_in_Deutschland)\n",
    "- [Shapefile](https://github.com/Brouny09/DataScience_WI22A2/blob/main/gadm41_DEU_2.shp)\n",
    "- [Google Trends Daten](https://raw.githubusercontent.com/Brouny09/DataScience_WI22A2/main/Corona_Trends_neu%20(1).csv)\n",
    "- [Impfdaten](https://raw.githubusercontent.com/robert-koch-institut/COVID-19-Impfungen_in_Deutschland/master/Aktuell_Deutschland_Bundeslaender_COVID-19-Impfungen.csv)"
   ]
  },
  {
   "cell_type": "markdown",
   "id": "14a0d772",
   "metadata": {},
   "source": [
    "## Datenvisualisierung\n",
    "\n",
    "### Datenvorbereitung\n",
    "\n",
    "Zunächst werden alle benötigten Libraries installiert und anschließend importiert: "
   ]
  },
  {
   "cell_type": "code",
   "execution_count": 56,
   "id": "ab8b8375",
   "metadata": {},
   "outputs": [],
   "source": [
    "import seaborn as sns\n",
    "import pandas as pd\n",
    "import geopandas as gpd\n",
    "import matplotlib.pyplot as plt\n",
    "import matplotlib as mpl\n",
    "import matplotlib.colors as colors\n",
    "import matplotlib.dates as mdates\n",
    "import matplotlib.image as mpimg\n",
    "import matplotlib.patches as mpatches\n",
    "from matplotlib.colors import LogNorm\n",
    "from matplotlib import ticker\n",
    "import numpy as np\n",
    "import plotly.express as px\n",
    "from termcolor import colored\n",
    "import cartopy.crs as ccrs\n",
    "from cartopy.mpl.geoaxes import GeoAxes\n",
    "import locale\n",
    "import warnings\n",
    "from scipy.signal import savgol_filter"
   ]
  },
  {
   "cell_type": "markdown",
   "id": "3ee5aefc",
   "metadata": {},
   "source": [
    "### Corona-Daten des RKI laden\n",
    "Im nächsten Schritt wurde der Hauptdatensatz des Robert-Koch-Instituts geladen und entsprechend vorbereitet. In der [Dokumentation](https://github.com/robert-koch-institut/SARS-CoV-2-Infektionen_in_Deutschland) unseres Datensatzes ist zu lesen, dass die 12 Stadtbezirke von Berlin als eigene \"Landkreise\" aufgegliedert wurden . Hier wird von den Vorgaben des AGS abgewichen. Für die Visualisierung unserer Daten, interessieren uns allerdings die Fallzahlen auf Landkreisebene, weshalb wir Berlin als einen Landkreis visualisieren und die Fälle der einzelnen Stadtteile entsprechend aufsummieren. Hierfür ersetzen wir in unserem Datensatz die IdLandkreis der betroffenen Stadtkreise durch die AGS definierte ID 11000."
   ]
  },
  {
   "cell_type": "code",
   "execution_count": 57,
   "id": "a3fdf860",
   "metadata": {},
   "outputs": [
    {
     "ename": "KeyError",
     "evalue": "'Meldedatum'",
     "output_type": "error",
     "traceback": [
      "\u001b[0;31m---------------------------------------------------------------------------\u001b[0m",
      "\u001b[0;31mKeyError\u001b[0m                                  Traceback (most recent call last)",
      "File \u001b[0;32m~/opt/anaconda3/lib/python3.9/site-packages/pandas/core/indexes/base.py:3802\u001b[0m, in \u001b[0;36mIndex.get_loc\u001b[0;34m(self, key, method, tolerance)\u001b[0m\n\u001b[1;32m   3801\u001b[0m \u001b[38;5;28;01mtry\u001b[39;00m:\n\u001b[0;32m-> 3802\u001b[0m     \u001b[38;5;28;01mreturn\u001b[39;00m \u001b[38;5;28;43mself\u001b[39;49m\u001b[38;5;241;43m.\u001b[39;49m\u001b[43m_engine\u001b[49m\u001b[38;5;241;43m.\u001b[39;49m\u001b[43mget_loc\u001b[49m\u001b[43m(\u001b[49m\u001b[43mcasted_key\u001b[49m\u001b[43m)\u001b[49m\n\u001b[1;32m   3803\u001b[0m \u001b[38;5;28;01mexcept\u001b[39;00m \u001b[38;5;167;01mKeyError\u001b[39;00m \u001b[38;5;28;01mas\u001b[39;00m err:\n",
      "File \u001b[0;32m~/opt/anaconda3/lib/python3.9/site-packages/pandas/_libs/index.pyx:138\u001b[0m, in \u001b[0;36mpandas._libs.index.IndexEngine.get_loc\u001b[0;34m()\u001b[0m\n",
      "File \u001b[0;32m~/opt/anaconda3/lib/python3.9/site-packages/pandas/_libs/index.pyx:165\u001b[0m, in \u001b[0;36mpandas._libs.index.IndexEngine.get_loc\u001b[0;34m()\u001b[0m\n",
      "File \u001b[0;32mpandas/_libs/hashtable_class_helper.pxi:5745\u001b[0m, in \u001b[0;36mpandas._libs.hashtable.PyObjectHashTable.get_item\u001b[0;34m()\u001b[0m\n",
      "File \u001b[0;32mpandas/_libs/hashtable_class_helper.pxi:5753\u001b[0m, in \u001b[0;36mpandas._libs.hashtable.PyObjectHashTable.get_item\u001b[0;34m()\u001b[0m\n",
      "\u001b[0;31mKeyError\u001b[0m: 'Meldedatum'",
      "\nThe above exception was the direct cause of the following exception:\n",
      "\u001b[0;31mKeyError\u001b[0m                                  Traceback (most recent call last)",
      "Cell \u001b[0;32mIn[57], line 3\u001b[0m\n\u001b[1;32m      1\u001b[0m cov_data \u001b[38;5;241m=\u001b[39m pd\u001b[38;5;241m.\u001b[39mDataFrame()\n\u001b[1;32m      2\u001b[0m cod_data \u001b[38;5;241m=\u001b[39m pd\u001b[38;5;241m.\u001b[39mread_csv(\u001b[38;5;124m\"\u001b[39m\u001b[38;5;124mhttps://media.githubusercontent.com/media/robert-koch-institut/SARS-CoV-2-Infektionen_in_Deutschland/main/Aktuell_Deutschland_SarsCov2_Infektionen.csv\u001b[39m\u001b[38;5;124m\"\u001b[39m)\n\u001b[0;32m----> 3\u001b[0m cov_data[\u001b[38;5;124m'\u001b[39m\u001b[38;5;124mMeldedatum\u001b[39m\u001b[38;5;124m'\u001b[39m] \u001b[38;5;241m=\u001b[39m pd\u001b[38;5;241m.\u001b[39mto_datetime(\u001b[43mcov_data\u001b[49m\u001b[43m[\u001b[49m\u001b[38;5;124;43m'\u001b[39;49m\u001b[38;5;124;43mMeldedatum\u001b[39;49m\u001b[38;5;124;43m'\u001b[39;49m\u001b[43m]\u001b[49m, \u001b[38;5;28mformat\u001b[39m\u001b[38;5;241m=\u001b[39m\u001b[38;5;124m'\u001b[39m\u001b[38;5;124m%\u001b[39m\u001b[38;5;124mY-\u001b[39m\u001b[38;5;124m%\u001b[39m\u001b[38;5;124mm-\u001b[39m\u001b[38;5;132;01m%d\u001b[39;00m\u001b[38;5;124m'\u001b[39m)\n\u001b[1;32m      4\u001b[0m cov_data[\u001b[38;5;124m'\u001b[39m\u001b[38;5;124mRefdatum\u001b[39m\u001b[38;5;124m'\u001b[39m] \u001b[38;5;241m=\u001b[39m pd\u001b[38;5;241m.\u001b[39mto_datetime(cov_data[\u001b[38;5;124m'\u001b[39m\u001b[38;5;124mRefdatum\u001b[39m\u001b[38;5;124m'\u001b[39m], \u001b[38;5;28mformat\u001b[39m\u001b[38;5;241m=\u001b[39m\u001b[38;5;124m'\u001b[39m\u001b[38;5;124m%\u001b[39m\u001b[38;5;124mY-\u001b[39m\u001b[38;5;124m%\u001b[39m\u001b[38;5;124mm-\u001b[39m\u001b[38;5;132;01m%d\u001b[39;00m\u001b[38;5;124m'\u001b[39m)\n\u001b[1;32m      5\u001b[0m cov_data[\u001b[38;5;124m'\u001b[39m\u001b[38;5;124mIdLandkreis\u001b[39m\u001b[38;5;124m'\u001b[39m] \u001b[38;5;241m=\u001b[39m cov_data[\u001b[38;5;124m'\u001b[39m\u001b[38;5;124mIdLandkreis\u001b[39m\u001b[38;5;124m'\u001b[39m]\u001b[38;5;241m.\u001b[39mastype(\u001b[38;5;28mint\u001b[39m)\n",
      "File \u001b[0;32m~/opt/anaconda3/lib/python3.9/site-packages/pandas/core/frame.py:3807\u001b[0m, in \u001b[0;36mDataFrame.__getitem__\u001b[0;34m(self, key)\u001b[0m\n\u001b[1;32m   3805\u001b[0m \u001b[38;5;28;01mif\u001b[39;00m \u001b[38;5;28mself\u001b[39m\u001b[38;5;241m.\u001b[39mcolumns\u001b[38;5;241m.\u001b[39mnlevels \u001b[38;5;241m>\u001b[39m \u001b[38;5;241m1\u001b[39m:\n\u001b[1;32m   3806\u001b[0m     \u001b[38;5;28;01mreturn\u001b[39;00m \u001b[38;5;28mself\u001b[39m\u001b[38;5;241m.\u001b[39m_getitem_multilevel(key)\n\u001b[0;32m-> 3807\u001b[0m indexer \u001b[38;5;241m=\u001b[39m \u001b[38;5;28;43mself\u001b[39;49m\u001b[38;5;241;43m.\u001b[39;49m\u001b[43mcolumns\u001b[49m\u001b[38;5;241;43m.\u001b[39;49m\u001b[43mget_loc\u001b[49m\u001b[43m(\u001b[49m\u001b[43mkey\u001b[49m\u001b[43m)\u001b[49m\n\u001b[1;32m   3808\u001b[0m \u001b[38;5;28;01mif\u001b[39;00m is_integer(indexer):\n\u001b[1;32m   3809\u001b[0m     indexer \u001b[38;5;241m=\u001b[39m [indexer]\n",
      "File \u001b[0;32m~/opt/anaconda3/lib/python3.9/site-packages/pandas/core/indexes/base.py:3804\u001b[0m, in \u001b[0;36mIndex.get_loc\u001b[0;34m(self, key, method, tolerance)\u001b[0m\n\u001b[1;32m   3802\u001b[0m     \u001b[38;5;28;01mreturn\u001b[39;00m \u001b[38;5;28mself\u001b[39m\u001b[38;5;241m.\u001b[39m_engine\u001b[38;5;241m.\u001b[39mget_loc(casted_key)\n\u001b[1;32m   3803\u001b[0m \u001b[38;5;28;01mexcept\u001b[39;00m \u001b[38;5;167;01mKeyError\u001b[39;00m \u001b[38;5;28;01mas\u001b[39;00m err:\n\u001b[0;32m-> 3804\u001b[0m     \u001b[38;5;28;01mraise\u001b[39;00m \u001b[38;5;167;01mKeyError\u001b[39;00m(key) \u001b[38;5;28;01mfrom\u001b[39;00m \u001b[38;5;21;01merr\u001b[39;00m\n\u001b[1;32m   3805\u001b[0m \u001b[38;5;28;01mexcept\u001b[39;00m \u001b[38;5;167;01mTypeError\u001b[39;00m:\n\u001b[1;32m   3806\u001b[0m     \u001b[38;5;66;03m# If we have a listlike key, _check_indexing_error will raise\u001b[39;00m\n\u001b[1;32m   3807\u001b[0m     \u001b[38;5;66;03m#  InvalidIndexError. Otherwise we fall through and re-raise\u001b[39;00m\n\u001b[1;32m   3808\u001b[0m     \u001b[38;5;66;03m#  the TypeError.\u001b[39;00m\n\u001b[1;32m   3809\u001b[0m     \u001b[38;5;28mself\u001b[39m\u001b[38;5;241m.\u001b[39m_check_indexing_error(key)\n",
      "\u001b[0;31mKeyError\u001b[0m: 'Meldedatum'"
     ]
    }
   ],
   "source": [
    "cov_data = pd.DataFrame()\n",
    "cod_data = pd.read_csv(\"https://media.githubusercontent.com/media/robert-koch-institut/SARS-CoV-2-Infektionen_in_Deutschland/main/Aktuell_Deutschland_SarsCov2_Infektionen.csv\")\n",
    "cov_data['Meldedatum'] = pd.to_datetime(cov_data['Meldedatum'], format='%Y-%m-%d')\n",
    "cov_data['Refdatum'] = pd.to_datetime(cov_data['Refdatum'], format='%Y-%m-%d')\n",
    "cov_data['IdLandkreis'] = cov_data['IdLandkreis'].astype(int)\n",
    "cov_data[\"IdLandkreis\"].replace([11001, 11002, 11003, 11004, 11005, 11006, 11007, 11008, 11009, 11010, 11011, 11012], 11000, inplace=True)\n",
    "#Einlesen der Daten "
   ]
  },
  {
   "cell_type": "code",
   "execution_count": null,
   "id": "8fb1a3b9",
   "metadata": {},
   "outputs": [],
   "source": [
    "cov_data = pd.DataFrame()\n",
    "cov_data  = pd.read_csv(\"/Users/jeremianeuhaus/Desktop/DataScienceProject/Aktuell_Deutschland_SarsCov2_Infektionen.csv\")\n",
    "cov_data['Meldedatum'] = pd.to_datetime(cov_data['Meldedatum'], format='%Y-%m-%d')\n",
    "cov_data['Refdatum'] = pd.to_datetime(cov_data['Refdatum'], format='%Y-%m-%d')\n",
    "cov_data['IdLandkreis'] = cov_data['IdLandkreis'].astype(int)\n",
    "cov_data[\"IdLandkreis\"].replace([11001, 11002, 11003, 11004, 11005, 11006, 11007, 11008, 11009, 11010, 11011, 11012], 11000, inplace=True)\n",
    "#Einlesen der Daten "
   ]
  },
  {
   "cell_type": "markdown",
   "id": "07f94891",
   "metadata": {},
   "source": [
    "### Geografische Daten laden \n",
    "\n",
    "Die geografischen Daten werden in From einer Shapefile dargestellt, die Geodaten basierend auf den Landkreisen von Deutschland enthält. Die Längen und Breitengrade liegen im Format von Multipolygon vor, geben also alle Punkt der Grenzen an. Im Laufe der Arbeit stellte sich heraus, dass die Shapefile etwas veraltet ist und teilweise falsche Informationen über die Landkreise in Deutschland enthält. Das äußerte sich darin, dass für den Landkreis Göttingen und Osterode am Harz keine Daten angezeigt wurden. Der Fehler bestand darin, dass Osterode am Harz am 1. November 2016 mit Göttingen zum neuen Landkreis Göttingen fusionierte. Das war in den Coronadaten richtig hinterlegt, in der Shapefile allderings nicht. Ähnlich verhält es sich mit dem Landkreis Eisenach der seit dem 1. Juni 2021 zum Wartburgkreis gehört. Die LandkreisIds dieser Landkreise mussten in der Shapefile entsprechend manuell angepasst werden. "
   ]
  },
  {
   "cell_type": "code",
   "execution_count": null,
   "id": "e7b8b148",
   "metadata": {},
   "outputs": [],
   "source": [
    "#Geodaten laden und vorbereiten\n",
    "geoframe = gpd.read_file(\"gadm41_DEU_shp/gadm41_DEU_2.shp\", na_values=['NA', 'NaN', 'N/A'])\n",
    "#Format anpassen, führende 0 löschen\n",
    "geoframe['CC_2'] = geoframe['CC_2'].str.lstrip('0')\n",
    "#NA Werte liegen als String vor. Diese werden herausgefiltert\n",
    "geoframe = geoframe[geoframe['CC_2'] != 'NA']\n",
    "#Löschung aller weiteren Na Werte\n",
    "geoframe = geoframe.dropna(subset=[\"CC_2\"])\n",
    "#Umbenennung der Spalte \"CC_2\" in \"IdLandkreis\" analog des DataFrames dflarge\n",
    "geoframe = geoframe.rename(columns={\"CC_2\": \"IdLandkreis\"})\n",
    "#Bevölkerungsdaten laden\n",
    "geoframe['IdLandkreis'] = geoframe['IdLandkreis'].astype(int)\n",
    "#Göttingen und Osterode am Harz fusionierten am 1. November 2016 zum neuen Landkreis Göttingen, Shapefile Daten veraltet\n",
    "geoframe.loc[geoframe['NAME_2'] == 'Göttingen', 'IdLandkreis'] = 3159\n",
    "geoframe.loc[geoframe['NAME_2'] == 'Osterode am Harz', 'IdLandkreis'] = 3159\n",
    "#Die Stadt Eisenach gehört seit 1. Juli 2021 zum Wartburgkreis. Shapefile enthält entsprechend veraltete Daten.\n",
    "geoframe.loc[geoframe['NAME_2'] == 'Eisenach', 'IdLandkreis'] = 16063"
   ]
  },
  {
   "cell_type": "markdown",
   "id": "53d42e69",
   "metadata": {},
   "source": [
    "### Bevölkerungsdaten laden\n",
    "\n",
    "Für die Kartenplots benötigen wir teilweise die Populationsdaten der Landkreise. Hierfür werden diese im folgenden geladen und als Pandas DataFrame gespeichert. "
   ]
  },
  {
   "cell_type": "code",
   "execution_count": null,
   "id": "fee0461c",
   "metadata": {},
   "outputs": [],
   "source": [
    "#Bevölkerungsdaten laden und vorbereiten\n",
    "population_lk= pd.DataFrame()\n",
    "population_lk = pd.read_excel(\"/Users/jeremianeuhaus/Downloads/04-kreise.xlsx\")\n",
    "population_lk = population_lk.dropna()\n",
    "population_lk[\"IdLandkreis\"] = population_lk[\"IdLandkreis\"].astype(int)\n",
    "# Ändern des Datentyps der Spalte \"Bevölkerung\" in Integer, um einheitlichen Datentyp für merge zu haben \n",
    "population_lk[\"Bevölkerung\"] = population_lk[\"Bevölkerung\"].astype(int)"
   ]
  },
  {
   "cell_type": "markdown",
   "id": "fa05a18c",
   "metadata": {},
   "source": [
    "### Google-Trends Daten laden\n",
    "\n",
    "Für die dritte Visualisierung benötigen wir die Google Trends Suchanfragen für das Wort \"Corona\"."
   ]
  },
  {
   "cell_type": "code",
   "execution_count": null,
   "id": "b7327d69",
   "metadata": {},
   "outputs": [],
   "source": [
    "df_Corona_Trends = pd.DataFrame()\n",
    "df_Corona_Trends  = pd.read_csv(\"/Users/jeremianeuhaus/Downloads/Corona_Trends_neu (1).csv\")"
   ]
  },
  {
   "cell_type": "markdown",
   "id": "f924ec55",
   "metadata": {},
   "source": [
    "### Impdaten Laden\n",
    "Für die letzte Visualisierung benötigen wir die Impfdaten. Diese sind ebenfalls im GitHub-Repository des RKIs zu finden."
   ]
  },
  {
   "cell_type": "code",
   "execution_count": null,
   "id": "9410f076",
   "metadata": {},
   "outputs": [],
   "source": [
    "df_impf = pd.read_csv(\"/Users/jeremianeuhaus/Downloads/COVIDImpfungen.csv\", sep=\",\", decimal=\".\", encoding=\"latin1\", on_bad_lines='skip')\n",
    "url = \"https://raw.githubusercontent.com/robert-koch-institut/COVID-19-Impfungen_in_Deutschland/master/Aktuell_Deutschland_Bundeslaender_COVID-19-Impfungen.csv\""
   ]
  },
  {
   "cell_type": "markdown",
   "id": "d0fb62e4",
   "metadata": {},
   "source": [
    "## 1. Visualisierung\n",
    "### Kartenvisualisierung basierend auf den Fallzahlen\n",
    "Im folgenden werden die Daten aus Landkreis_Bev und cov_data zusammengefügt. Anschließend wird basierend auf den beiden Columns \"AnzahlFall\" und \"Bevölkerung\" der Wert \"Percentage\" berechnet der die Anzahl der Fälle in das Verhältnis mit der gesamten Population des Landkreises setzt.  "
   ]
  },
  {
   "cell_type": "code",
   "execution_count": null,
   "id": "3ea55f83",
   "metadata": {},
   "outputs": [],
   "source": [
    "#merge der DataFrames cov_data und Landkreis_Bev basierend auf den Werten der Spalte \"IdLandkreis\"\n",
    "merged_cov_data = pd.merge(cov_data , population_lk, on='IdLandkreis')\n",
    "#Neuen nach IdLandkreis gruppierten DataFrame erstellen und Anzahlfälle summieren. Entsprechende Bevölkerungszahl hinzufügen\n",
    "merged = merged_cov_data.groupby('IdLandkreis').agg({'AnzahlFall': 'sum', 'Bevölkerung': 'first'}).reset_index()\n",
    "#Prozentuale Infektionsrate ausrechnen und im DataFrame unter der Spalte \"Percentage\" speichern \n",
    "merged['Percentage'] = merged['AnzahlFall']/merged['Bevölkerung']*100\n",
    "\n",
    "# Fälle gruppieren und zählen basierend auf Landkreis\n",
    "grouped_cases = merged.groupby('IdLandkreis')['AnzahlFall'].sum().reset_index()\n",
    "\n",
    "# Neue Spalte erstellen mit den logarithmischen Werten von AnzahlFall, um die mittleren Werte besser darzustellen\n",
    "merged_map = geoframe.merge(grouped_cases, on='IdLandkreis', how='left')"
   ]
  },
  {
   "cell_type": "markdown",
   "id": "cdb92851",
   "metadata": {},
   "source": [
    "Für die Visualisierung benutzen wir die selbe Farbskala, die sich aus den Farben rot, orange und grün zusammengesetzt. Die Skala ist sehr intuitiv zu lesen: Rot steht für hohe Fallwerte und grün für wenige Fallwerte."
   ]
  },
  {
   "cell_type": "code",
   "execution_count": null,
   "id": "ac89b5b4",
   "metadata": {},
   "outputs": [],
   "source": [
    "colorscale = colors.LinearSegmentedColormap.from_list('colorscale', ['green', 'orange', 'red'])"
   ]
  },
  {
   "cell_type": "markdown",
   "id": "d52bdb68",
   "metadata": {},
   "source": [
    "Anschließend wird der eigentliche Plot erstellt. Wir haben uns in diesem Fall für eine logarithmische Skalierung entschieden, da es viele Landkreise gibt, die ähnliche Werte haben mit Ausnahme einiger Aureißwerte wie z.B. Berlin."
   ]
  },
  {
   "cell_type": "code",
   "execution_count": null,
   "id": "d43790b8",
   "metadata": {},
   "outputs": [],
   "source": [
    "merged_map['per_hundret_k'] = round((merged_map['AnzahlFall']/83000000) *100000).astype(int)\n",
    "norm = colors.LogNorm(vmin=merged_map['per_hundret_k'].min(), vmax=merged_map['per_hundret_k'].max())\n",
    "# Plotten der Deutschlandkarte mit den aggregierten Fallzahlen\n",
    "fig = plt.figure(figsize=(10, 10))\n",
    "ax = fig.add_subplot(1, 1, 1, projection=ccrs.PlateCarree())\n",
    "\n",
    "# Deaktiviere den UserWarning für das centroid-Problem\n",
    "warnings.filterwarnings(\"ignore\", category=UserWarning)\n",
    "\n",
    "merged_map.plot(ax=ax, column='per_hundret_k', cmap=colorscale, linewidth=0.8, edgecolor='0.8', vmin=0, vmax=merged_map['per_hundret_k'].max(), legend=False, norm=norm)\n",
    "\n",
    "\n",
    "top_five = merged_map.nlargest(5, \"per_hundret_k\")[[\"NAME_2\", \"per_hundret_k\", \"geometry\"]]\n",
    "top_five['Coords'] = top_five['geometry'].centroid\n",
    "top_five['Coords'] = top_five['Coords'].apply(lambda p: (p.x, p.y))\n",
    "\n",
    "# Pfeile und Beschriftungen für die Top 5 Werte erstellen\n",
    "for row in top_five.itertuples():\n",
    "    lon, lat = row.Coords\n",
    "    text = row.NAME_2\n",
    "    per_hundret_k = row.per_hundret_k\n",
    "    ax.annotate(\"\", xy=(lon, lat), xytext=(lon+0.3, lat+0.3), arrowprops=dict(arrowstyle=\"-\"))\n",
    "    ax.text(lon+0.3, lat+0.3, f'{text}\\n({per_hundret_k} Fälle)', transform=ccrs.PlateCarree())\n",
    "\n",
    "plt.title('Absolute Fallzahlen pro Landkreis in Fällen pro 100.000 Einwohnern',fontsize=15, pad=20, fontweight='bold', loc='left')\n",
    "\n",
    "# Manuell festgelegte Ticks in der Farblegende\n",
    "cbar = plt.colorbar(ax.get_children()[0], ax=ax, orientation='vertical', aspect=50)\n",
    "cbar.set_label('Anzahl der Fälle pro 100.000 Einwohner')\n",
    "\n",
    "ticks = [round(merged_map['per_hundret_k'].min()),25,50, 75, 100,150, 200, 250, 300, 400, 500, 600, 800, 1000,1500, round(merged_map['per_hundret_k'].max()) ]\n",
    "cbar.set_ticks(ticks)\n",
    "cbar.set_ticklabels(ticks)\n",
    "\n",
    "plt.show()\n",
    "\n",
    "\n"
   ]
  },
  {
   "cell_type": "markdown",
   "id": "4959941c",
   "metadata": {},
   "source": [
    "### Interpretation\n",
    "Für die bessere Übersicht wurden noch die 5 Landkreise mit den meisten Coronafällen markiert. Auch ein Blick auf die Karte zeigt schnell dass die Landkreise Berlin, Hamburg, München, Hannover und Köln rot eingefärbt sind. Außerdem erkennt man dass die Landkreise die an der Grenze liegen eher selten weniger Coronafälle haben. So gut wie alle Landkreise an der Grenze sind mindestens grün-gelb gefärbt. Das ergibt auch Sinn, da an den Grenzen vermutlich am meisten Verkehr ist und viele Menschen, die nach Deutschland einreisen über diese Landkreise einreisen. Was auch auffällt ist, dass eher die geografisch kleineren Landkreise grün eingefärbt sind. Man könnte das darauf zurückführen, dass weniger Fläche auch weniger Menschen bedeutet, und somit auch weniger potentielle Ansteckungsmöglichkeiten. Dieser Ansatz wird im nächsten Kartenplot nochmal genauer untersucht. "
   ]
  },
  {
   "cell_type": "markdown",
   "id": "451b2366",
   "metadata": {},
   "source": [
    "## 2. Visualisierung\n",
    "### Kartenvisualisierung basierend auf den Fallzahlen im Verhätlnis zur Bevölkerung \n",
    "Die Erstellung der Virtualisierung ist größtenteils analog der ersten Kartenvisualisierung. Der Unterschied besteht darin, dass die Karte basierend auf den prozentualen Werten in der Spalte \"Percentage\" eingefärbt wird. Dabei werden die Anzahl der Fälle pro Landkreis ins Verhältnis zur Bevölkerung des Landkreises gesetzt, um eine andere Perspektive auf die Fallzahlen zu bekommen.\n",
    "Auch hier haben wir uns für eine logarithmische Skalierung entschieden, da hier zwar andere Werte visualisiert werden, die Verteilung dieser Werte jedoch gleich bleibt."
   ]
  },
  {
   "cell_type": "code",
   "execution_count": null,
   "id": "dff9e1fb",
   "metadata": {},
   "outputs": [],
   "source": [
    "#Vorbereiteten DataFrame \"merged\" mit dem Geopandas Dataframe \"geoframe\" mergen, um geodaten zu ergänzen\n",
    "merged_map = geoframe.merge(merged, on='IdLandkreis', how='left')     \n",
    "merged_map['Percentage'] = round(merged_map['Percentage'], 1)\n",
    "      \n",
    "#Skala an den Min und Max werten der Spalte \"Percentage ausrichten, norm auf LogNorm setzen, da Werte im Unteren bereich alle ähnlich\"\n",
    "norm = colors.LogNorm(vmin=merged_map['Percentage'].min(), vmax=merged_map['Percentage'].max())\n",
    "\n",
    "fig = plt.figure(figsize=(10, 10))\n",
    "ax = fig.add_subplot(1, 1, 1, projection=ccrs.PlateCarree())\n",
    "    \n",
    "top_five = merged_map.nlargest(5, \"Percentage\")[[\"NAME_2\", \"Percentage\", \"geometry\"]]\n",
    "top_five['Coords'] = top_five['geometry'].centroid\n",
    "top_five['Coords'] = top_five['Coords'].apply(lambda p: (p.x, p.y))\n",
    "merged_map.plot(ax=ax, column='Percentage', cmap=colorscale, linewidth=0.8, edgecolor='0.8', vmin=0, vmax=merged_map['Percentage'].max(), legend=False, norm=norm)\n",
    "    \n",
    "#Beschriftung so skalieren dass es erkenntlich ist. \n",
    "i = 0.2\n",
    "for row in top_five.itertuples():\n",
    "    lon, lat = row.Coords\n",
    "    text = row.NAME_2\n",
    "    percentage = row.Percentage\n",
    "    ax.annotate(\"\", xy=(lon, lat), xytext=(lon+0.3, lat+0.3+i), arrowprops=dict(arrowstyle=\"-\"))\n",
    "    ax.text(lon+0.3, lat+0.3+i, f'{text}\\n({percentage}%)', transform=ccrs.PlateCarree())\n",
    "    i+=0.2\n",
    "        \n",
    "cbar = plt.colorbar(ax.get_children()[0], ax=ax, orientation='vertical', aspect=50)\n",
    "cbar.set_label('Anzahl der Fälle in Prozent')\n",
    "\n",
    "ticks = [round(merged_map['Percentage'].min()), 40, 50, 60]  # Manuell festgelegte Ticks\n",
    "\n",
    "cbar.set_ticks(ticks)\n",
    "cbar.set_ticklabels(ticks)\n",
    "\n",
    "plt.title('Fallzahlen pro Landkreis (eingefärbt entsprechend den Werten)')\n",
    "\n",
    "plt.show()"
   ]
  },
  {
   "cell_type": "markdown",
   "id": "d87cd569",
   "metadata": {},
   "source": [
    "### Interpretation\n",
    "Man sieht schnell, dass dieser Plot eine ganz andere Realität darstellt. Die Landkreise mit den fünf höchsten Infektionsraten sind Vechta, Fulda, Mühldorf am Inn, Emsland und Cloppenburg. Alles Landkreise die in der vorherigen Visualisierung keine auffallend hohen Fallzahlen aufwiesen. Die top fünf Landkreise Berlin, Hamburg, München, Hannover und Köln aus der ersten Visualisierung ordnen sich in den mittleren Prozentbereichen ein. \n",
    "Was darüber hinaus auffällt ist, dass das Bundesland Bayern die höchsten prozentualen Infektionsraten hat. "
   ]
  },
  {
   "cell_type": "markdown",
   "id": "9774762d",
   "metadata": {},
   "source": [
    "## 3. Visualisierung \n",
    "### Liniendiagramm der Fallzahlen inkl. Google Trends und Lockdown\n",
    "Neben der Kartenvisualisierung auf Bundselandebene und Landkreisebene, möchten wir den gesamten verlauf der COVID-19 Fälle über die Jahre 2020 bis 2023 veranschaulichen. Um ein Veränderung über die Zeit kenntlich zu machen, erwies sich die Viusalisierung mittels eines Liniendiagrammes am besten.\n",
    "Wichtig zu Berücksichtigen ist, das die Anzahl der Fälle pro Tag in dem unten dargestellten Liniendiagramm vorhanden sind. Die Anzahl der Fälle auf der y-Achse bezieht sich auf pro 100.000 Menschen. Auf der zweiten y-Achse visualisieren wir die Corona-Trend-Suchanfragen, sprich wie oft wurde zu gegebenem Datum der Begriff Corona gesucht. Diese Werte liegen lediglich in prozentualen Anteilen vor, da die genaue Anzahl der Suchen nicht herausgegeben wird.\n",
    "Des Weiteren haben wir die Corona-Lockdown Zeiträume mit zwei unterschiedlich markierten rechtecken kenntlich gemacht. Da der Zeitraum relativ breit ist, sind diese nicht immens groß aber man kann dennoch deutlich den Einfluss der Lockdowns auf die Corona-Fallzahlen erkennen."
   ]
  },
  {
   "cell_type": "code",
   "execution_count": null,
   "id": "332e064c",
   "metadata": {},
   "outputs": [],
   "source": [
    "import warnings\n",
    "import matplotlib.pyplot as plt\n",
    "import matplotlib.patches as mpatches\n",
    "import seaborn as sns\n",
    "\n",
    "warnings.filterwarnings(\"ignore\", category=UserWarning)\n",
    "\n",
    "colors = sns.color_palette(\"bright\")\n",
    "colorBlau = colors[0]\n",
    "colorGrau = colors[7]\n",
    "colorGreen = colors[2]\n",
    "colorRed = colors[3]\n",
    "\n",
    "AnzahlFall_Meldedatum = cov_data.groupby('Meldedatum')['AnzahlFall'].sum() / 83000000 * 100000\n",
    "\n",
    "fig, ax = plt.subplots(figsize=(35, 10))\n",
    "ax2 = ax.twinx()\n",
    "ax2.set_ylim(0, 100)\n",
    "ax2.set_ylabel('Google Trends Suchanfragen', fontsize=20)\n",
    "\n",
    "sns.lineplot(x=AnzahlFall_Meldedatum.index, y=AnzahlFall_Meldedatum.values, ax=ax, color=colorGrau, alpha=0.3)\n",
    "plt.plot(df_Corona_Trends['Woche'], df_Corona_Trends['Corona'], color=colorBlau)\n",
    "AnzahlFall_Meldedatum.rolling(7).mean().plot(ax=ax, color='black')\n",
    "\n",
    "plt.title('Anzahl der COVID-19 Fälle verglichen mit Google Trends Anfragen', fontsize=25, pad=20, fontweight='bold', loc='left')\n",
    "\n",
    "ax.set_xlabel('Meldedatum', fontsize=20)\n",
    "ax.set_ylabel('Anzahl der Fälle pro 100.000', fontsize=20)\n",
    "ax.xaxis.set_major_locator(mdates.MonthLocator(interval=1))\n",
    "ax.xaxis.set_major_formatter(mdates.DateFormatter(\"%d-%m-%Y\"))\n",
    "\n",
    "ax.xaxis.grid(False)\n",
    "ax.yaxis.grid(False)\n",
    "\n",
    "lockdown_start1 = pd.to_datetime('2020-03-22')\n",
    "lockdown_end1 = pd.to_datetime('2020-05-04')\n",
    "lockdown_start2 = pd.to_datetime('2020-12-13')\n",
    "lockdown_end2 = pd.to_datetime('2021-01-10')\n",
    "lockerungen_start = pd.to_datetime('2021-03-04')\n",
    "lockerungen_end = pd.to_datetime('2021-03-05')\n",
    "\n",
    "ax.axvspan(lockdown_start1, lockdown_end1, alpha=0.3, color=colorRed)\n",
    "ax.axvspan(lockdown_start2, lockdown_end2, alpha=0.3, color=colorRed)\n",
    "ax.axvspan(lockerungen_start, lockerungen_end, alpha=0.3, color=colorGreen)\n",
    "\n",
    "start_date = pd.to_datetime('2020-01-01')\n",
    "end_date = pd.to_datetime('2023-06-01')\n",
    "ax.set_xlim(start_date, end_date)\n",
    "\n",
    "plt.xticks(fontsize=10)\n",
    "plt.yticks(fontsize=10)\n",
    "\n",
    "ax.set_ylim(0, max(AnzahlFall_Meldedatum.max(), df_Corona_Trends['Corona'].max()) * 1.1)\n",
    "\n",
    "plt.show()\n"
   ]
  },
  {
   "cell_type": "markdown",
   "id": "685ea346",
   "metadata": {},
   "source": [
    "### Interpretation\n",
    "Wie man sehen kann, ist der verlauf der Corona Fallzahlen pro Tag zu beginn von Corona noch sehr gering. Deutschland hat relativ schnell reagiert und mittels zweier Lockdowns die Infizierungen drastisch gemindert.\n",
    "Die blaue Google Trends Linie zeigt ziemlich gut das Interesse der Gesamtbevölkerung zu dem Thema Corona. Zu Beginn als Corona in unser Leben trat, erreichte die Suchanfragen zwischen dem 01.03.2020 und dem 01.04.2020\n",
    "die größte Anzahl an Suchanfragen. Über die Zeit kann man wahrnehmen, das die Google Trendslinie immer dann ansteigt, wenn auch die Anzahl der Fallmeldungen zunimmt. Gegen Ende als auch die Lockerungen und Impfungen eintraten, \n",
    "wurde das Thema wieder vermehrt unrelevant. \n",
    "Ziemlich signifikant ist auch der extreme Antieg der COVID-19 Meldungen nach den Lockerungen extrem in die Höhe geschossen. Dies is dem Fakt geschuldet, das die Menschen sich wieder trafe, Kontakte Pflegten, feiern gingen und sich \n",
    "hierdurch vermehrt ansteckten."
   ]
  },
  {
   "cell_type": "markdown",
   "id": "773439ae",
   "metadata": {},
   "source": [
    "## 4. Visualisierung \n",
    "### Balkendiagramm Corona Impfungen \n",
    "\n",
    "Insgesamt erweist sich die Entscheidung darüber, wer zuerst geimpft werden sollte, als eine sehr komplexe Angelegenheit, die wissenschaftliche, politische, ethische und logistische Faktoren berücksichtigen muss. Es erfordert eine enge Zusammenarbeit von Regierung, Gesundheitsbehörden und der Öffentlichkeit, um sicherzustellen, dass die Impfstrategien effektiv und fair sind.\n",
    "\n",
    "Um den gesamten Prozess zu vereinfachen haben wir uns dazu entschieden eine Visualisierung in Form eines Balkendiagramms vorzunehmen, welche die COVID-19 Fälle pro Altersgruppe anzeigt. Um die Verteilung der Todesfälle in den Altersgruppen darzustellen, wurde daneben ein weiteres Balkendiagramm dargestellt.\n",
    "Diese Lösung kam zum Einsatz, da die Anzahl der Todesfälle zu gering ist, um neben den Gesamtfällen innerhalb eine Balkendiagrammes zu stehen. Durch die Skalierung waren die Todesfälle kaum ersichtlich."
   ]
  },
  {
   "cell_type": "code",
   "execution_count": null,
   "id": "6129405f",
   "metadata": {},
   "outputs": [],
   "source": [
    "# Wir h aus df_Alter_Faelle und df_Alter_TodesFaelle\n",
    "x = df_Alter_Faelle[df_Alter_Faelle['Altersgruppe'] != 'unbekannt']['Altersgruppe']\n",
    "y1 = df_Alter_Faelle[df_Alter_Faelle['Altersgruppe'] != 'unbekannt']['AnzahlFall'] / 83000000 * 100000\n",
    "y2 = df_Alter_TodesFaelle[df_Alter_TodesFaelle['Altersgruppe'] != 'unbekannt']['AnzahlTodesfall']\n",
    "\n",
    "# Farbpalette \"bright\" verwenden und Farben für die Plots festlegen\n",
    "colors = sns.color_palette(\"bright\")\n",
    "colorBlau = colors[0]  # Blau\n",
    "colorRed = colors[3]  # Rot\n",
    "colorGray = colors[7] #Grey\n",
    "\n",
    "# Setze locale für Tausender-Trennpunkt\n",
    "locale.setlocale(locale.LC_ALL, '')\n",
    "\n",
    "# Erstelle die Figur und Achsen-Objekte\n",
    "fig, ax = plt.subplots(1, 2, figsize=(20, 8))\n",
    "\n",
    "# Erster Barplot auf der linken Achse\n",
    "sns.barplot(x=x, y=y1, ax=ax[0], color=colorBlau)\n",
    "ax[0].set_title('Anzahl der COVID-19 Fälle pro 100,000', fontsize=20, fontweight='bold', pad=20, loc='left')\n",
    "ax[0].set_xlabel('Altersgruppe', fontsize=15)\n",
    "ax[0].set_ylabel('Anzahl Fälle pro 100.000 Einwohner', fontsize=15)\n",
    "\n",
    "# Text für die Anzahl der Fälle über den Bars im ersten Plot\n",
    "for i, yval in enumerate(y1):\n",
    "    formatted_val = locale.format_string(\"%d\", yval, grouping=True)  # Formatieren der Anzahl mit Tausender-Trennpunkt\n",
    "    ax[0].text(i, yval, formatted_val, ha='center', va='bottom')\n",
    "\n",
    "# Skalierung der y-Achse auf ganze Zahlen\n",
    "ax[0].yaxis.set_major_locator(ticker.MaxNLocator(integer=True))\n",
    "\n",
    "# Zweiter Barplot auf der rechten Achse\n",
    "sns.barplot(x=x, y=y2, ax=ax[1], color=colorRed)\n",
    "ax[1].set_title('Anzahl der Todesfälle pro Altersgruppe', fontsize=20, fontweight='bold', pad=20, loc='left')\n",
    "ax[1].set_xlabel('Altersgruppe', fontsize=15)\n",
    "ax[1].set_ylabel('Anzahl Todesfälle', fontsize=15)\n",
    "\n",
    "# Text für die Anzahl der Fälle über den Bars im zweiten Plot\n",
    "for i, yval in enumerate(y2):\n",
    "    formatted_val = locale.format_string(\"%d\", yval, grouping=True)  # Formatieren der Anzahl mit Tausender-Trennpunkt\n",
    "   \n",
    "ax[1].text(i, yval, formatted_val, ha='center', va='bottom')\n",
    "\n",
    "# Abstände der x und y-Achsen Labels zur achse selbst\n",
    "ax[0].xaxis.set_label_coords(0.5, -0.1)#\n",
    "ax[1].xaxis.set_label_coords(0.5, -0.1)\n",
    "ax[0].yaxis.set_label_coords(-0.1, 0.5)\n",
    "ax[1].yaxis.set_label_coords(-0.1, 0.5)  \n",
    "\n",
    "# Gitter entfernen\n",
    "ax[0].grid(False)\n",
    "ax[1].grid(False)\n",
    "\n",
    "\n",
    "\n",
    "# Zeige den Plot\n",
    "plt.show()"
   ]
  },
  {
   "cell_type": "markdown",
   "id": "fffef910",
   "metadata": {},
   "source": [
    "### Interpretation\n",
    "Aufgrund der zugrunde liegenden Visualisierung ist ziemlich signifikant, das die Altersgruppe A35-A59 die meisten und die Altergruppe A00-A004 die wenigsten Fälle aufweist. Verglichen mit dem rechten Balkendiagramm sieht man deutlich, das sich die Todesfälle dieser Altergruppen ziemlich im Rahmen halten und nicht herausstechen. \n",
    "Interessanter ist, das anhand der Todesfälle ziemlich erkenntlich ist, das die Sterberate in Richtung der älteren Generationen deutlich höher ist, als die der jüngeren Generationen.\n",
    "Aufgrund dieser Information erkennt Sie, das die alten Menschen ein deutlich höheres Todesrisiko aufweisen, als jüngere Generationen. \n",
    "Basierend auf dieser Tatsache, wäre es sinnvoll zuerst die älteren Bevölkerungsschichten zu isolieren und ihnen so schnell wie möglich die erste Impfung zu verabreichen, um diese zu schützen. \n",
    "Anschließen wäre es wichtig die altersgruppen A15-A34 und A35-A59 zu impfen, da diese im altäglichen leben deutlich mehr unternehmen und dadurch den Virus schneller verbreiten.\n"
   ]
  },
  {
   "cell_type": "markdown",
   "id": "201eeeff",
   "metadata": {},
   "source": [
    "## 5. Visualisierung\n",
    "### Verwendung der Coronaimpfstoffe\n",
    "Zum Abschluss werden die Daten aus dem Impfdatensatz des Robert-Koch-Instituts dargestellt. Dabei wird in der ersten Visualisierung eine zeitliche Einordnung der Impfserien gegeben. In der zweiten Visualisierung wird die jeweilige Häufigkeitsverteilung der verwendeten Impfstoffe dargestellt."
   ]
  },
  {
   "cell_type": "code",
   "execution_count": null,
   "id": "0e1978a5",
   "metadata": {
    "scrolled": false
   },
   "outputs": [],
   "source": [
    "plt.figure(figsize=(14, 14))\n",
    "\n",
    "plt.subplot(2, 1, 1)\n",
    "df_impf['Impfdatum'] = pd.to_datetime(df_impf['Impfdatum'])\n",
    "serien = df_impf.groupby(['Impfdatum', 'Impfserie'])['Anzahl'].sum().unstack()\n",
    "palette = sns.color_palette(\"bright\", serien.shape[1])\n",
    "styles = ['-', '-', '-', '-']\n",
    "for i, serie in enumerate(serien.columns):\n",
    "    if i < len(styles) and i < len(palette):\n",
    "        smoothed_data = savgol_filter(serien[serie], window_length=21, polyorder=2)\n",
    "        plt.plot(serien.index, smoothed_data, label=f'Impfserie {serie}', linestyle=styles[i], color=palette[i])\n",
    "plt.xlabel('Impfdatum', fontsize=15)\n",
    "plt.ylabel('Anzahl', fontsize=15)\n",
    "plt.title('Zeitlicher Verlauf der Impfserien (geglättet)', fontsize=20, pad=20, fontweight='bold', loc='left')\n",
    "plt.legend(title='Impfserie')\n",
    "plt.xticks(rotation=45)\n",
    "plt.yticks(fontsize=10)\n",
    "plt.ticklabel_format(style='plain', axis='y')\n",
    "\n",
    "plt.subplot(2, 1, 2)\n",
    "total_sum = df_impf.groupby('Impfdatum')['Anzahl'].sum()\n",
    "top_6_impfstoffe = df_impf.groupby('Impfstoff')['Anzahl'].sum().nlargest(6).index\n",
    "top_6_data = df_impf[df_impf['Impfstoff'].isin(top_6_impfstoffe)]\n",
    "impfstoff_datum_pct = top_6_data.groupby(['Impfstoff', 'Impfdatum'])['Anzahl'].sum() / total_sum * 100\n",
    "palette = sns.color_palette(\"bright\", len(top_6_impfstoffe))\n",
    "for i, impfstoff in enumerate(top_6_impfstoffe):\n",
    "    impfstoff_data = impfstoff_datum_pct.loc[impfstoff]\n",
    "    smoothed_data = savgol_filter(impfstoff_data.values, window_length=15, polyorder=2)\n",
    "    smoothed_data = np.maximum(smoothed_data, 0)\n",
    "    plt.plot(impfstoff_data.index, smoothed_data, label=impfstoff, color=palette[i])\n",
    "handles, labels = plt.gca().get_legend_handles_labels()\n",
    "order = sorted(range(len(labels)), key=lambda k: labels[k])\n",
    "plt.legend([handles[i] for i in order], [labels[i] for i in order])\n",
    "plt.xlabel('Impfdatum', fontsize=15)\n",
    "plt.ylabel('Prozentualer Anteil', fontsize=15)\n",
    "plt.title(' Trend der Top 6 Impfstoffe (geglättet)', fontsize=20, pad=20, fontweight='bold', loc='left')\n",
    "plt.xticks(rotation=45)\n",
    "plt.yticks(fontsize=10)\n",
    "plt.tight_layout()\n",
    "plt.show()"
   ]
  },
  {
   "cell_type": "markdown",
   "id": "30404f13",
   "metadata": {},
   "source": [
    "### Interpretation\n",
    "In der oberen Grafik wird die Anzahl der Impfungen in der jeweiligen Impfserie im zeitlichen Verlauf dargestellt. Man sieht hier sehr gut, wie sich die Impfungen zeitlich aus verschiedenen Gründen verteilen. Die kurven, der Impfserie 1 und 2 sind flacher und über einen längeren Zeitraum. Bei der 3. Impfung konnte die hohe Nachfrage schneller.\n",
    "\n",
    "In der Grafik darunter wird der Marktanteil der Impfstoffarten prozentual dargestellt. Hier kann man gut erkennen, wie Corminaty (Biontech) bis auf einen Spitzenwert von Spikevax (Moderna) im absoluten Höchstwert der Impfungen immer der Marktführer ist. Im späteren zeitlichen Verlauf kann man die Substitutionen der neuen Varianten von Corminaty sehen. Allgemein ist bei einer hoher Impfrate immer ein Einbruch von Corminaty zu sehen, der darauf schließen lässt, dass dieser die hohe Nachfrage nicht allein Abdecken konnte.\n"
   ]
  },
  {
   "cell_type": "code",
   "execution_count": null,
   "id": "bd4162e9",
   "metadata": {},
   "outputs": [],
   "source": []
  },
  {
   "cell_type": "code",
   "execution_count": null,
   "id": "cb59d590",
   "metadata": {},
   "outputs": [],
   "source": []
  },
  {
   "cell_type": "code",
   "execution_count": null,
   "id": "5d1214d0",
   "metadata": {},
   "outputs": [],
   "source": []
  },
  {
   "cell_type": "code",
   "execution_count": null,
   "id": "8d8d5f2d",
   "metadata": {},
   "outputs": [],
   "source": []
  }
 ],
 "metadata": {
  "kernelspec": {
   "display_name": "Python 3 (ipykernel)",
   "language": "python",
   "name": "python3"
  },
  "language_info": {
   "codemirror_mode": {
    "name": "ipython",
    "version": 3
   },
   "file_extension": ".py",
   "mimetype": "text/x-python",
   "name": "python",
   "nbconvert_exporter": "python",
   "pygments_lexer": "ipython3",
   "version": "3.9.13"
  }
 },
 "nbformat": 4,
 "nbformat_minor": 5
}
